{
 "cells": [
  {
   "cell_type": "code",
   "execution_count": 683,
   "metadata": {
    "collapsed": false
   },
   "outputs": [
    {
     "name": "stdout",
     "output_type": "stream",
     "text": [
      "[[ 4.]]\n"
     ]
    }
   ],
   "source": [
    "import numpy as np\n",
    "import matplotlib.pyplot as plt\n",
    "import random\n",
    "\n",
    "nx = 9\n",
    "n1 = 10\n",
    "n2 = 10\n",
    "ny = 1\n",
    "\n",
    "# w1 = np.zeros((nx, n1))\n",
    "# w2 = np.zeros((n2, n1)).T\n",
    "# w3 = np.zeros((n2, 1))\n",
    "\n",
    "w1 = np.random.rand(nx, n1)\n",
    "w2 = np.random.rand(n2, n1)\n",
    "w3 = np.random.rand(n2, 1)\n",
    "\n",
    "\n",
    "\"\"\"\n",
    "[1 2 3] | [0 1 -1]\n",
    "[4 5 6] | [-1 1 -1]\n",
    "[7 8 9] | [1 0 1]\n",
    "\"\"\"\n",
    "\n",
    "# x = np.zeros((nx, 1))\n",
    "# l1 = np.zeros((1, n1))\n",
    "# l2 = np.zeros((1, n2))\n",
    "\n",
    "inp = [0, 1, -1, -1, 1, -1, 1, 0, 1]\n",
    "# x = np.random.rand(nx, 1)\n",
    "x = np.asarray(inp)\n",
    "x = np.reshape(x, (1, len(inp)))\n",
    "l1 = np.random.rand(1, n1)\n",
    "l2 = np.random.rand(1, n2)\n",
    "\n",
    "# print w1\n",
    "# print w2\n",
    "# print w3\n",
    "# print x\n",
    "# print l1\n",
    "# print l2\n",
    "\n",
    "def sigmoid(x):\n",
    "    return ((5.0)/(1+np.exp(-1*x)))\n",
    "\n",
    "l1 = np.dot(x, w1)\n",
    "#l1 = sigmoid(l1)\n",
    "l1 = np.tanh(l1) + random.random()\n",
    "l2 = np.dot(l1, w2.T)\n",
    "#l2 = sigmoid(l2)\n",
    "l2 = np.tanh(l2) + random.random()\n",
    "y = np.dot(l2, w3)\n",
    "#y = sigmoid(y)\n",
    "#y = np.tanh(y)\n",
    "print np.ceil(10*y/15)"
   ]
  },
  {
   "cell_type": "code",
   "execution_count": 243,
   "metadata": {
    "collapsed": false
   },
   "outputs": [
    {
     "name": "stdout",
     "output_type": "stream",
     "text": [
      "[[ 10.33292932]]\n"
     ]
    }
   ],
   "source": []
  },
  {
   "cell_type": "code",
   "execution_count": null,
   "metadata": {
    "collapsed": true
   },
   "outputs": [],
   "source": []
  },
  {
   "cell_type": "code",
   "execution_count": 19,
   "metadata": {
    "collapsed": false
   },
   "outputs": [
    {
     "name": "stdout",
     "output_type": "stream",
     "text": [
      "9.0 10.0 11.0 9.0\n",
      "(90,) (110,) (100,) 300\n",
      "<type 'str'>\n"
     ]
    }
   ],
   "source": [
    "import numpy as np\n",
    "f = open(\"player_genomes/best_genome.txt\", 'rb').read()\n",
    "data = f.split('\\n')\n",
    "\n",
    "fitness = float(data[0].split(' ')[1])\n",
    "nx = float(data[1].split(' ')[1])\n",
    "n1 = float(data[2].split(' ')[1])\n",
    "n2 = float(data[3].split(' ')[1])\n",
    "ny = float(data[4].split(' ')[1])\n",
    "\n",
    "print nx, n1, n2,  ny\n",
    "\n",
    "w1 = np.asarray(data[5:5+int(nx*n1)])\n",
    "w2 = np.asarray(data[5+int(nx*n1):5+int(nx*n1)+int(n1*n2)])\n",
    "w3 = np.asarray(data[5+int(nx*n1)+int(n1*n2):])\n",
    "print w1.shape, w2.shape, w3.shape, len(data[5:])\n",
    "\n",
    "print type(w1[0][10])"
   ]
  },
  {
   "cell_type": "code",
   "execution_count": 16,
   "metadata": {
    "collapsed": false
   },
   "outputs": [
    {
     "name": "stdout",
     "output_type": "stream",
     "text": [
      "<type 'float'>\n"
     ]
    }
   ],
   "source": [
    "import random\n",
    "print type(random.random())"
   ]
  }
 ],
 "metadata": {
  "kernelspec": {
   "display_name": "Python 2",
   "language": "python",
   "name": "python2"
  },
  "language_info": {
   "codemirror_mode": {
    "name": "ipython",
    "version": 2
   },
   "file_extension": ".py",
   "mimetype": "text/x-python",
   "name": "python",
   "nbconvert_exporter": "python",
   "pygments_lexer": "ipython2",
   "version": "2.7.6"
  }
 },
 "nbformat": 4,
 "nbformat_minor": 0
}
